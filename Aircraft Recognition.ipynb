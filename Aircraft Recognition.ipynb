{
 "cells": [
  {
   "cell_type": "markdown",
   "id": "b74c9550",
   "metadata": {},
   "source": [
    "## Notes\n",
    "\n",
    "### Image\n",
    "* Image size is 128 x 128"
   ]
  },
  {
   "cell_type": "code",
   "execution_count": 45,
   "id": "d1b73008",
   "metadata": {},
   "outputs": [
    {
     "name": "stdout",
     "output_type": "stream",
     "text": [
      "False False\n"
     ]
    }
   ],
   "source": [
    "import pandas as pd\n",
    "import numpy as np\n",
    "import tensorflow as tf\n",
    "import keras as k\n",
    "from PIL import Image\n",
    "from tqdm.notebook import tqdm\n",
    "import os\n",
    "from sklearn import preprocessing\n",
    "import wandb\n",
    "from wandb.keras import WandbCallback\n",
    "from sklearn.model_selection import train_test_split\n",
    "from sklearn.metrics import confusion_matrix, ConfusionMatrixDisplay, f1_score, accuracy_score, precision_score, top_k_accuracy_score\n",
    "import matplotlib.pyplot as plt\n",
    "%matplotlib inline\n",
    "\n",
    "gpu_available = tf.test.is_gpu_available()\n",
    "is_cuda_gpu_available = tf.test.is_gpu_available(cuda_only=True)\n",
    "\n",
    "print(gpu_available, is_cuda_gpu_available)"
   ]
  },
  {
   "cell_type": "code",
   "execution_count": 2,
   "id": "9fb76c7a",
   "metadata": {},
   "outputs": [
    {
     "name": "stderr",
     "output_type": "stream",
     "text": [
      "\u001b[34m\u001b[1mwandb\u001b[0m: Currently logged in as: \u001b[33mthompson_e\u001b[0m (use `wandb login --relogin` to force relogin)\n",
      "\u001b[34m\u001b[1mwandb\u001b[0m: wandb version 0.12.15 is available!  To upgrade, please run:\n",
      "\u001b[34m\u001b[1mwandb\u001b[0m:  $ pip install wandb --upgrade\n"
     ]
    },
    {
     "data": {
      "text/html": [
       "\n",
       "                    Syncing run <strong><a href=\"https://wandb.ai/thompson_e/aircraft-project/runs/1jikjoue\" target=\"_blank\">winter-voice-14</a></strong> to <a href=\"https://wandb.ai/thompson_e/aircraft-project\" target=\"_blank\">Weights & Biases</a> (<a href=\"https://docs.wandb.com/integrations/jupyter.html\" target=\"_blank\">docs</a>).<br/>\n",
       "\n",
       "                "
      ],
      "text/plain": [
       "<IPython.core.display.HTML object>"
      ]
     },
     "metadata": {},
     "output_type": "display_data"
    },
    {
     "data": {
      "text/html": [
       "<button onClick=\"this.nextSibling.style.display='block';this.style.display='none';\">Display W&B run</button><iframe src=\"https://wandb.ai/thompson_e/aircraft-project/runs/1jikjoue?jupyter=true\" style=\"border:none;width:100%;height:420px;display:none;\"></iframe>"
      ],
      "text/plain": [
       "<wandb.sdk.wandb_run.Run at 0x1c4b71aefa0>"
      ]
     },
     "execution_count": 2,
     "metadata": {},
     "output_type": "execute_result"
    }
   ],
   "source": [
    "wandb.init(project=\"aircraft-project\", entity=\"thompson_e\")"
   ]
  },
  {
   "cell_type": "code",
   "execution_count": 3,
   "id": "0c54a821",
   "metadata": {},
   "outputs": [],
   "source": [
    "batch_size = 128\n",
    "img_height = 128\n",
    "img_width = 128\n",
    "epochs = 100"
   ]
  },
  {
   "cell_type": "code",
   "execution_count": 4,
   "id": "5bb7a00f",
   "metadata": {},
   "outputs": [],
   "source": [
    "training_path = 'Train/'\n",
    "label_file = 'train.csv'\n",
    "image_path = 'Train/in_images'\n",
    "\n",
    "y_ambi = set(['other-airplane', 'A220', 'Boeing787', 'Boeing777', 'Boeing737', 'Boeing747', \n",
    "                   'C919', 'A321', 'A350', 'A330', 'ARJ21'])\n",
    "y_clean = labels_ambi = set(['A220', 'Boeing787', 'Boeing777', 'Boeing737', 'Boeing747', \n",
    "                   'C919', 'A321', 'A350', 'A330', 'ARJ21'])"
   ]
  },
  {
   "cell_type": "code",
   "execution_count": 5,
   "id": "8022507c",
   "metadata": {},
   "outputs": [],
   "source": [
    "# use this to limit the ambiguous choice of \"other airplane\"\n",
    "USE_CLEAN = True"
   ]
  },
  {
   "cell_type": "code",
   "execution_count": 6,
   "id": "22ccec5d",
   "metadata": {},
   "outputs": [
    {
     "data": {
      "text/plain": [
       "array([['5690_0.png', 'A220'],\n",
       "       ['5690_1.png', 'A220'],\n",
       "       ['5690_2.png', 'A220'],\n",
       "       ...,\n",
       "       ['4597_0.png', 'Boeing737'],\n",
       "       ['4597_1.png', 'A321'],\n",
       "       ['4597_3.png', 'Boeing737']], dtype=object)"
      ]
     },
     "execution_count": 6,
     "metadata": {},
     "output_type": "execute_result"
    }
   ],
   "source": [
    "labels = pd.read_csv(f'{training_path}{label_file}')\n",
    "if USE_CLEAN:\n",
    "    labels = labels[labels.label != 'other-airplane']\n",
    "labels = labels.to_numpy()\n",
    "\n",
    "labels"
   ]
  },
  {
   "cell_type": "code",
   "execution_count": 7,
   "id": "3da8ee6d",
   "metadata": {},
   "outputs": [],
   "source": [
    "class Model:\n",
    "    def __init__(self):\n",
    "        self.model = self.build_model()\n",
    "        print(self.model.summary())\n",
    "    \n",
    "    def build_model(self):\n",
    "        model = tf.keras.Sequential([\n",
    "            tf.keras.layers.InputLayer((128,128,3)),\n",
    "            tf.keras.layers.Conv2D(filters = 8, kernel_size = 9),\n",
    "            tf.keras.layers.MaxPool2D(),\n",
    "            tf.keras.layers.Conv2D(filters = 4, kernel_size = 3, activation = 'relu'),\n",
    "            tf.keras.layers.MaxPool2D(),\n",
    "            tf.keras.layers.Flatten(),\n",
    "            tf.keras.layers.Dropout(.5),\n",
    "            tf.keras.layers.Dense(64,activation='relu'),\n",
    "            tf.keras.layers.Dense(128,activation='relu'),\n",
    "            tf.keras.layers.Dense(128,activation='relu'),\n",
    "            tf.keras.layers.Dense(10, activation='softmax'),\n",
    "        ])\n",
    "        opt = tf.keras.optimizers.Adam(learning_rate=0.001)\n",
    "        model.compile(optimizer=opt, \n",
    "              loss='sparse_categorical_crossentropy', metrics=['accuracy'])\n",
    "\n",
    "        return model"
   ]
  },
  {
   "cell_type": "code",
   "execution_count": 8,
   "id": "d2937af8",
   "metadata": {},
   "outputs": [
    {
     "name": "stdout",
     "output_type": "stream",
     "text": [
      "Model: \"sequential\"\n",
      "_________________________________________________________________\n",
      " Layer (type)                Output Shape              Param #   \n",
      "=================================================================\n",
      " conv2d (Conv2D)             (None, 120, 120, 8)       1952      \n",
      "                                                                 \n",
      " max_pooling2d (MaxPooling2D  (None, 60, 60, 8)        0         \n",
      " )                                                               \n",
      "                                                                 \n",
      " conv2d_1 (Conv2D)           (None, 58, 58, 4)         292       \n",
      "                                                                 \n",
      " max_pooling2d_1 (MaxPooling  (None, 29, 29, 4)        0         \n",
      " 2D)                                                             \n",
      "                                                                 \n",
      " flatten (Flatten)           (None, 3364)              0         \n",
      "                                                                 \n",
      " dropout (Dropout)           (None, 3364)              0         \n",
      "                                                                 \n",
      " dense (Dense)               (None, 64)                215360    \n",
      "                                                                 \n",
      " dense_1 (Dense)             (None, 128)               8320      \n",
      "                                                                 \n",
      " dense_2 (Dense)             (None, 128)               16512     \n",
      "                                                                 \n",
      " dense_3 (Dense)             (None, 10)                1290      \n",
      "                                                                 \n",
      "=================================================================\n",
      "Total params: 243,726\n",
      "Trainable params: 243,726\n",
      "Non-trainable params: 0\n",
      "_________________________________________________________________\n",
      "None\n"
     ]
    }
   ],
   "source": [
    "model = Model()"
   ]
  },
  {
   "cell_type": "code",
   "execution_count": 13,
   "id": "67c87baa",
   "metadata": {},
   "outputs": [
    {
     "data": {
      "application/vnd.jupyter.widget-view+json": {
       "model_id": "cc759300564b45eebec25ee42925edb0",
       "version_major": 2,
       "version_minor": 0
      },
      "text/plain": [
       "  0%|          | 0/20349 [00:00<?, ?it/s]"
      ]
     },
     "metadata": {},
     "output_type": "display_data"
    }
   ],
   "source": [
    "X = []\n",
    "for file in tqdm(labels[:,0]):\n",
    "    image = Image.open(f'{image_path}/{file}')\n",
    "    image = np.asarray(image)[:,:,:3]/255\n",
    "    X.append(image)\n",
    "X = np.array(X)"
   ]
  },
  {
   "cell_type": "code",
   "execution_count": 14,
   "id": "879fbaa5",
   "metadata": {},
   "outputs": [
    {
     "name": "stdout",
     "output_type": "stream",
     "text": [
      "(20349, 128, 128, 3) (20349, 2)\n"
     ]
    }
   ],
   "source": [
    "print(X.shape, labels.shape)"
   ]
  },
  {
   "cell_type": "code",
   "execution_count": 15,
   "id": "08189517",
   "metadata": {},
   "outputs": [
    {
     "name": "stdout",
     "output_type": "stream",
     "text": [
      "['A220' 'A321' 'A330' 'A350' 'ARJ21' 'Boeing737' 'Boeing747' 'Boeing777'\n",
      " 'Boeing787' 'C919']\n"
     ]
    }
   ],
   "source": [
    "le = preprocessing.LabelEncoder()\n",
    "le.fit(labels[:,1])\n",
    "print(le.classes_)\n",
    "y = le.transform(labels[:,1])"
   ]
  },
  {
   "cell_type": "code",
   "execution_count": 20,
   "id": "43249b27",
   "metadata": {},
   "outputs": [
    {
     "name": "stdout",
     "output_type": "stream",
     "text": [
      "(16279, 128, 128, 3) (2849, 128, 128, 3) (1221, 128, 128, 3)\n"
     ]
    }
   ],
   "source": [
    "X_train, X_test, y_train, y_test= train_test_split(X, y, test_size=0.2, shuffle = True, stratify = y)\n",
    "X_test, X_val, y_test, y_val = train_test_split(X_test, y_test, test_size=0.3, shuffle = True)\n",
    "\n",
    "print(X_train.shape, X_test.shape, X_val.shape)"
   ]
  },
  {
   "cell_type": "code",
   "execution_count": 94,
   "id": "0e9fb0c5",
   "metadata": {
    "scrolled": true
   },
   "outputs": [
    {
     "name": "stdout",
     "output_type": "stream",
     "text": [
      "Epoch 1/100\n",
      "128/128 [==============================] - 42s 329ms/step - loss: 1.8762 - accuracy: 0.3129 - val_loss: 1.5964 - val_accuracy: 0.3952\n",
      "Epoch 2/100\n",
      "128/128 [==============================] - 41s 323ms/step - loss: 1.3071 - accuracy: 0.4924 - val_loss: 1.0851 - val_accuracy: 0.5865\n",
      "Epoch 3/100\n",
      "128/128 [==============================] - 41s 318ms/step - loss: 0.9984 - accuracy: 0.6174 - val_loss: 0.9140 - val_accuracy: 0.6364\n",
      "Epoch 4/100\n",
      "128/128 [==============================] - 41s 319ms/step - loss: 0.7667 - accuracy: 0.7111 - val_loss: 0.6160 - val_accuracy: 0.7919\n",
      "Epoch 5/100\n",
      "128/128 [==============================] - 41s 320ms/step - loss: 0.6319 - accuracy: 0.7702 - val_loss: 0.4639 - val_accuracy: 0.8484\n",
      "Epoch 6/100\n",
      "128/128 [==============================] - 41s 319ms/step - loss: 0.5096 - accuracy: 0.8174 - val_loss: 0.3990 - val_accuracy: 0.8680\n",
      "Epoch 7/100\n",
      "128/128 [==============================] - 42s 332ms/step - loss: 0.4334 - accuracy: 0.8473 - val_loss: 0.4143 - val_accuracy: 0.8621\n",
      "Epoch 8/100\n",
      "128/128 [==============================] - 41s 316ms/step - loss: 0.3824 - accuracy: 0.8639 - val_loss: 0.3330 - val_accuracy: 0.8947\n",
      "Epoch 9/100\n",
      "128/128 [==============================] - 41s 317ms/step - loss: 0.3308 - accuracy: 0.8848 - val_loss: 0.2935 - val_accuracy: 0.9122\n",
      "Epoch 10/100\n",
      "128/128 [==============================] - 40s 313ms/step - loss: 0.2973 - accuracy: 0.8966 - val_loss: 0.2697 - val_accuracy: 0.9221\n",
      "Epoch 11/100\n",
      "128/128 [==============================] - 40s 316ms/step - loss: 0.2659 - accuracy: 0.9085 - val_loss: 0.2634 - val_accuracy: 0.9305\n",
      "Epoch 12/100\n",
      "128/128 [==============================] - 41s 318ms/step - loss: 0.2412 - accuracy: 0.9149 - val_loss: 0.2608 - val_accuracy: 0.9256\n",
      "Epoch 13/100\n",
      "128/128 [==============================] - 42s 328ms/step - loss: 0.2207 - accuracy: 0.9261 - val_loss: 0.2287 - val_accuracy: 0.9386\n",
      "Epoch 14/100\n",
      "128/128 [==============================] - 42s 327ms/step - loss: 0.2076 - accuracy: 0.9303 - val_loss: 0.2173 - val_accuracy: 0.9449\n",
      "Epoch 15/100\n",
      "128/128 [==============================] - 42s 330ms/step - loss: 0.1858 - accuracy: 0.9381 - val_loss: 0.2197 - val_accuracy: 0.9424\n",
      "Epoch 16/100\n",
      "128/128 [==============================] - 41s 323ms/step - loss: 0.1825 - accuracy: 0.9378 - val_loss: 0.1941 - val_accuracy: 0.9519\n",
      "Epoch 17/100\n",
      "128/128 [==============================] - 42s 330ms/step - loss: 0.1682 - accuracy: 0.9451 - val_loss: 0.2216 - val_accuracy: 0.9400\n",
      "Epoch 18/100\n",
      "128/128 [==============================] - 41s 322ms/step - loss: 0.1580 - accuracy: 0.9469 - val_loss: 0.2180 - val_accuracy: 0.9456\n",
      "Epoch 19/100\n",
      "128/128 [==============================] - 43s 336ms/step - loss: 0.1544 - accuracy: 0.9464 - val_loss: 0.2198 - val_accuracy: 0.9463\n",
      "Epoch 20/100\n",
      "128/128 [==============================] - 42s 325ms/step - loss: 0.1519 - accuracy: 0.9499 - val_loss: 0.2136 - val_accuracy: 0.9495\n",
      "Epoch 21/100\n",
      "128/128 [==============================] - 44s 346ms/step - loss: 0.1369 - accuracy: 0.9571 - val_loss: 0.2328 - val_accuracy: 0.9495\n",
      "Epoch 22/100\n",
      "128/128 [==============================] - 43s 339ms/step - loss: 0.1348 - accuracy: 0.9548 - val_loss: 0.2074 - val_accuracy: 0.9488\n",
      "Epoch 23/100\n",
      "128/128 [==============================] - 43s 336ms/step - loss: 0.1162 - accuracy: 0.9625 - val_loss: 0.1881 - val_accuracy: 0.9516\n",
      "Epoch 24/100\n",
      "128/128 [==============================] - 42s 329ms/step - loss: 0.1180 - accuracy: 0.9615 - val_loss: 0.1968 - val_accuracy: 0.9526\n",
      "Epoch 25/100\n",
      "128/128 [==============================] - 42s 330ms/step - loss: 0.1188 - accuracy: 0.9593 - val_loss: 0.2160 - val_accuracy: 0.9502\n",
      "Epoch 26/100\n",
      "128/128 [==============================] - 43s 336ms/step - loss: 0.1143 - accuracy: 0.9630 - val_loss: 0.1885 - val_accuracy: 0.9537\n",
      "Epoch 27/100\n",
      "128/128 [==============================] - 41s 324ms/step - loss: 0.1030 - accuracy: 0.9661 - val_loss: 0.2169 - val_accuracy: 0.9509\n",
      "Epoch 28/100\n",
      "128/128 [==============================] - 42s 325ms/step - loss: 0.1091 - accuracy: 0.9625 - val_loss: 0.1896 - val_accuracy: 0.9540\n",
      "Epoch 29/100\n",
      "128/128 [==============================] - 41s 324ms/step - loss: 0.1010 - accuracy: 0.9666 - val_loss: 0.2065 - val_accuracy: 0.9551\n",
      "Epoch 30/100\n",
      "128/128 [==============================] - 41s 321ms/step - loss: 0.1026 - accuracy: 0.9677 - val_loss: 0.1989 - val_accuracy: 0.9512\n",
      "Epoch 31/100\n",
      "128/128 [==============================] - 41s 324ms/step - loss: 0.0952 - accuracy: 0.9674 - val_loss: 0.2086 - val_accuracy: 0.9523\n",
      "Epoch 32/100\n",
      "128/128 [==============================] - 43s 334ms/step - loss: 0.0957 - accuracy: 0.9686 - val_loss: 0.2021 - val_accuracy: 0.9561\n",
      "Epoch 33/100\n",
      "128/128 [==============================] - 41s 324ms/step - loss: 0.0886 - accuracy: 0.9712 - val_loss: 0.2059 - val_accuracy: 0.9523\n",
      "Epoch 34/100\n",
      "128/128 [==============================] - 41s 322ms/step - loss: 0.0892 - accuracy: 0.9695 - val_loss: 0.2053 - val_accuracy: 0.9540\n",
      "Epoch 35/100\n",
      "128/128 [==============================] - 42s 329ms/step - loss: 0.0870 - accuracy: 0.9714 - val_loss: 0.2080 - val_accuracy: 0.9488\n",
      "Epoch 36/100\n",
      "128/128 [==============================] - 43s 336ms/step - loss: 0.0878 - accuracy: 0.9705 - val_loss: 0.2105 - val_accuracy: 0.9498\n",
      "Epoch 37/100\n",
      "128/128 [==============================] - 42s 326ms/step - loss: 0.0865 - accuracy: 0.9714 - val_loss: 0.1841 - val_accuracy: 0.9572\n",
      "Epoch 38/100\n",
      "128/128 [==============================] - 42s 325ms/step - loss: 0.0781 - accuracy: 0.9743 - val_loss: 0.1823 - val_accuracy: 0.9558\n",
      "Epoch 39/100\n",
      "128/128 [==============================] - 42s 327ms/step - loss: 0.0720 - accuracy: 0.9770 - val_loss: 0.1952 - val_accuracy: 0.9551\n",
      "Epoch 40/100\n",
      "128/128 [==============================] - 42s 331ms/step - loss: 0.0733 - accuracy: 0.9757 - val_loss: 0.2057 - val_accuracy: 0.9572\n",
      "Epoch 41/100\n",
      "128/128 [==============================] - 43s 335ms/step - loss: 0.0774 - accuracy: 0.9742 - val_loss: 0.2017 - val_accuracy: 0.9572\n",
      "Epoch 42/100\n",
      "128/128 [==============================] - 43s 338ms/step - loss: 0.0806 - accuracy: 0.9739 - val_loss: 0.1894 - val_accuracy: 0.9589\n",
      "Epoch 43/100\n",
      "128/128 [==============================] - 43s 333ms/step - loss: 0.0750 - accuracy: 0.9756 - val_loss: 0.2032 - val_accuracy: 0.9603\n",
      "Epoch 44/100\n",
      "128/128 [==============================] - 43s 337ms/step - loss: 0.0814 - accuracy: 0.9736 - val_loss: 0.1911 - val_accuracy: 0.9579\n",
      "Epoch 45/100\n",
      "128/128 [==============================] - 41s 322ms/step - loss: 0.0710 - accuracy: 0.9765 - val_loss: 0.1938 - val_accuracy: 0.9565\n",
      "Epoch 46/100\n",
      "128/128 [==============================] - 42s 329ms/step - loss: 0.0758 - accuracy: 0.9751 - val_loss: 0.2123 - val_accuracy: 0.9537\n",
      "Epoch 47/100\n",
      "128/128 [==============================] - 44s 347ms/step - loss: 0.0637 - accuracy: 0.9790 - val_loss: 0.1838 - val_accuracy: 0.9568\n",
      "Epoch 48/100\n",
      "128/128 [==============================] - 43s 338ms/step - loss: 0.0564 - accuracy: 0.9815 - val_loss: 0.1982 - val_accuracy: 0.9568\n",
      "Epoch 49/100\n",
      "128/128 [==============================] - 42s 324ms/step - loss: 0.0684 - accuracy: 0.9773 - val_loss: 0.2079 - val_accuracy: 0.9586\n",
      "Epoch 50/100\n",
      "128/128 [==============================] - 41s 318ms/step - loss: 0.0648 - accuracy: 0.9789 - val_loss: 0.1908 - val_accuracy: 0.9565\n",
      "Epoch 51/100\n",
      "128/128 [==============================] - 42s 327ms/step - loss: 0.0588 - accuracy: 0.9796 - val_loss: 0.1869 - val_accuracy: 0.9600\n",
      "Epoch 52/100\n",
      "128/128 [==============================] - 42s 330ms/step - loss: 0.0639 - accuracy: 0.9795 - val_loss: 0.2128 - val_accuracy: 0.9547\n",
      "Epoch 53/100\n",
      "128/128 [==============================] - 41s 320ms/step - loss: 0.0680 - accuracy: 0.9790 - val_loss: 0.2085 - val_accuracy: 0.9568\n",
      "Epoch 54/100\n",
      "128/128 [==============================] - 42s 326ms/step - loss: 0.0604 - accuracy: 0.9800 - val_loss: 0.1888 - val_accuracy: 0.9596\n",
      "Epoch 55/100\n",
      "128/128 [==============================] - 41s 321ms/step - loss: 0.0644 - accuracy: 0.9789 - val_loss: 0.2041 - val_accuracy: 0.9589\n",
      "Epoch 56/100\n",
      "128/128 [==============================] - 41s 317ms/step - loss: 0.0684 - accuracy: 0.9781 - val_loss: 0.1946 - val_accuracy: 0.9575\n"
     ]
    },
    {
     "name": "stdout",
     "output_type": "stream",
     "text": [
      "Epoch 57/100\n",
      "128/128 [==============================] - 41s 323ms/step - loss: 0.0592 - accuracy: 0.9803 - val_loss: 0.1947 - val_accuracy: 0.9572\n",
      "Epoch 58/100\n",
      "128/128 [==============================] - 42s 332ms/step - loss: 0.0620 - accuracy: 0.9791 - val_loss: 0.1831 - val_accuracy: 0.9579\n",
      "Epoch 59/100\n",
      "128/128 [==============================] - 41s 319ms/step - loss: 0.0588 - accuracy: 0.9800 - val_loss: 0.1991 - val_accuracy: 0.9596\n",
      "Epoch 60/100\n",
      "128/128 [==============================] - 41s 324ms/step - loss: 0.0565 - accuracy: 0.9834 - val_loss: 0.1951 - val_accuracy: 0.9603\n",
      "Epoch 61/100\n",
      "128/128 [==============================] - 42s 327ms/step - loss: 0.0513 - accuracy: 0.9831 - val_loss: 0.2205 - val_accuracy: 0.9565\n",
      "Epoch 62/100\n",
      "128/128 [==============================] - 41s 321ms/step - loss: 0.0611 - accuracy: 0.9810 - val_loss: 0.2080 - val_accuracy: 0.9568\n",
      "Epoch 63/100\n",
      "128/128 [==============================] - 42s 326ms/step - loss: 0.0581 - accuracy: 0.9806 - val_loss: 0.2156 - val_accuracy: 0.9603\n",
      "Epoch 64/100\n",
      "128/128 [==============================] - 43s 335ms/step - loss: 0.0507 - accuracy: 0.9832 - val_loss: 0.1851 - val_accuracy: 0.9593\n",
      "Epoch 65/100\n",
      "128/128 [==============================] - 43s 335ms/step - loss: 0.0514 - accuracy: 0.9829 - val_loss: 0.2219 - val_accuracy: 0.9575\n",
      "Epoch 66/100\n",
      "128/128 [==============================] - 42s 326ms/step - loss: 0.0601 - accuracy: 0.9809 - val_loss: 0.1934 - val_accuracy: 0.9631\n",
      "Epoch 67/100\n",
      "128/128 [==============================] - 42s 326ms/step - loss: 0.0504 - accuracy: 0.9856 - val_loss: 0.1865 - val_accuracy: 0.9568\n",
      "Epoch 68/100\n",
      "128/128 [==============================] - 43s 332ms/step - loss: 0.0461 - accuracy: 0.9851 - val_loss: 0.2103 - val_accuracy: 0.9631\n",
      "Epoch 69/100\n",
      "128/128 [==============================] - 42s 328ms/step - loss: 0.0653 - accuracy: 0.9792 - val_loss: 0.1978 - val_accuracy: 0.9593\n",
      "Epoch 70/100\n",
      "128/128 [==============================] - 43s 334ms/step - loss: 0.0546 - accuracy: 0.9827 - val_loss: 0.2075 - val_accuracy: 0.9575\n",
      "Epoch 71/100\n",
      "128/128 [==============================] - 41s 323ms/step - loss: 0.0490 - accuracy: 0.9833 - val_loss: 0.2041 - val_accuracy: 0.9596\n",
      "Epoch 72/100\n",
      "128/128 [==============================] - 42s 327ms/step - loss: 0.0454 - accuracy: 0.9855 - val_loss: 0.1975 - val_accuracy: 0.9614\n",
      "Epoch 73/100\n",
      "128/128 [==============================] - 41s 320ms/step - loss: 0.0414 - accuracy: 0.9860 - val_loss: 0.2114 - val_accuracy: 0.9610\n",
      "Epoch 74/100\n",
      "128/128 [==============================] - 41s 323ms/step - loss: 0.0448 - accuracy: 0.9852 - val_loss: 0.2367 - val_accuracy: 0.9579\n",
      "Epoch 75/100\n",
      "128/128 [==============================] - 42s 331ms/step - loss: 0.0513 - accuracy: 0.9842 - val_loss: 0.2021 - val_accuracy: 0.9614\n",
      "Epoch 76/100\n",
      "128/128 [==============================] - 41s 320ms/step - loss: 0.0510 - accuracy: 0.9840 - val_loss: 0.1920 - val_accuracy: 0.9631\n",
      "Epoch 77/100\n",
      "128/128 [==============================] - 42s 327ms/step - loss: 0.0434 - accuracy: 0.9842 - val_loss: 0.2059 - val_accuracy: 0.9621\n",
      "Epoch 78/100\n",
      "128/128 [==============================] - 42s 326ms/step - loss: 0.0544 - accuracy: 0.9827 - val_loss: 0.1950 - val_accuracy: 0.9621\n",
      "Epoch 79/100\n",
      "128/128 [==============================] - 41s 318ms/step - loss: 0.0444 - accuracy: 0.9853 - val_loss: 0.2084 - val_accuracy: 0.9638\n",
      "Epoch 80/100\n",
      "128/128 [==============================] - 40s 316ms/step - loss: 0.0437 - accuracy: 0.9849 - val_loss: 0.1996 - val_accuracy: 0.9628\n",
      "Epoch 81/100\n",
      "128/128 [==============================] - 41s 322ms/step - loss: 0.0449 - accuracy: 0.9849 - val_loss: 0.1956 - val_accuracy: 0.9607\n",
      "Epoch 82/100\n",
      "128/128 [==============================] - 41s 324ms/step - loss: 0.0441 - accuracy: 0.9847 - val_loss: 0.1923 - val_accuracy: 0.9610\n",
      "Epoch 83/100\n",
      "128/128 [==============================] - 42s 325ms/step - loss: 0.0531 - accuracy: 0.9830 - val_loss: 0.1854 - val_accuracy: 0.9621\n",
      "Epoch 84/100\n",
      "128/128 [==============================] - 42s 325ms/step - loss: 0.0466 - accuracy: 0.9858 - val_loss: 0.2418 - val_accuracy: 0.9575\n",
      "Epoch 85/100\n",
      "128/128 [==============================] - 41s 322ms/step - loss: 0.0438 - accuracy: 0.9852 - val_loss: 0.1995 - val_accuracy: 0.9603\n",
      "Epoch 86/100\n",
      "128/128 [==============================] - 41s 318ms/step - loss: 0.0419 - accuracy: 0.9869 - val_loss: 0.2230 - val_accuracy: 0.9586\n",
      "Epoch 87/100\n",
      "128/128 [==============================] - 42s 328ms/step - loss: 0.0445 - accuracy: 0.9862 - val_loss: 0.2112 - val_accuracy: 0.9603\n",
      "Epoch 88/100\n",
      "128/128 [==============================] - 45s 355ms/step - loss: 0.0396 - accuracy: 0.9863 - val_loss: 0.2021 - val_accuracy: 0.9610\n",
      "Epoch 89/100\n",
      "128/128 [==============================] - 43s 334ms/step - loss: 0.0337 - accuracy: 0.9881 - val_loss: 0.2048 - val_accuracy: 0.9610\n",
      "Epoch 90/100\n",
      "128/128 [==============================] - 42s 329ms/step - loss: 0.0444 - accuracy: 0.9855 - val_loss: 0.2271 - val_accuracy: 0.9582\n",
      "Epoch 91/100\n",
      "128/128 [==============================] - 43s 339ms/step - loss: 0.0429 - accuracy: 0.9851 - val_loss: 0.2056 - val_accuracy: 0.9593\n",
      "Epoch 92/100\n",
      "128/128 [==============================] - 41s 321ms/step - loss: 0.0428 - accuracy: 0.9865 - val_loss: 0.2105 - val_accuracy: 0.9603\n",
      "Epoch 93/100\n",
      "128/128 [==============================] - 41s 322ms/step - loss: 0.0408 - accuracy: 0.9865 - val_loss: 0.1925 - val_accuracy: 0.9621\n",
      "Epoch 94/100\n",
      "128/128 [==============================] - 41s 323ms/step - loss: 0.0407 - accuracy: 0.9869 - val_loss: 0.2053 - val_accuracy: 0.9603\n",
      "Epoch 95/100\n",
      "128/128 [==============================] - 41s 319ms/step - loss: 0.0369 - accuracy: 0.9878 - val_loss: 0.2295 - val_accuracy: 0.9582\n",
      "Epoch 96/100\n",
      "128/128 [==============================] - 41s 319ms/step - loss: 0.0475 - accuracy: 0.9849 - val_loss: 0.2264 - val_accuracy: 0.9593\n",
      "Epoch 97/100\n",
      "128/128 [==============================] - 41s 321ms/step - loss: 0.0387 - accuracy: 0.9864 - val_loss: 0.1963 - val_accuracy: 0.9607\n",
      "Epoch 98/100\n",
      "128/128 [==============================] - 41s 321ms/step - loss: 0.0382 - accuracy: 0.9874 - val_loss: 0.2410 - val_accuracy: 0.9568\n",
      "Epoch 99/100\n",
      "128/128 [==============================] - 41s 320ms/step - loss: 0.0394 - accuracy: 0.9870 - val_loss: 0.2236 - val_accuracy: 0.9568\n",
      "Epoch 100/100\n",
      "128/128 [==============================] - 40s 315ms/step - loss: 0.0360 - accuracy: 0.9880 - val_loss: 0.2143 - val_accuracy: 0.9575\n"
     ]
    },
    {
     "data": {
      "text/plain": [
       "<keras.callbacks.History at 0x1d9cd8d6f70>"
      ]
     },
     "execution_count": 94,
     "metadata": {},
     "output_type": "execute_result"
    }
   ],
   "source": [
    "# model.model.fit(X_train, y_train, epochs=epochs,use_multiprocessing=True,verbose=1, \n",
    "#                 batch_size=batch_size, validation_data=(X_test,y_test) ,callbacks=[WandbCallback()])"
   ]
  },
  {
   "cell_type": "code",
   "execution_count": 25,
   "id": "dc2a01de",
   "metadata": {},
   "outputs": [
    {
     "name": "stdout",
     "output_type": "stream",
     "text": [
      "39/39 [==============================] - 1s 15ms/step - loss: 0.0220 - accuracy: 0.9934\n"
     ]
    },
    {
     "data": {
      "text/plain": [
       "[0.02196679636836052, 0.99344801902771]"
      ]
     },
     "execution_count": 25,
     "metadata": {},
     "output_type": "execute_result"
    }
   ],
   "source": [
    "model.model.evaluate(X_val, y_val)  "
   ]
  },
  {
   "cell_type": "code",
   "execution_count": 26,
   "id": "d36bd8c2",
   "metadata": {},
   "outputs": [
    {
     "name": "stdout",
     "output_type": "stream",
     "text": [
      "1213 8 1221\n",
      "Overall Accuracy: 99.34%\n"
     ]
    }
   ],
   "source": [
    "preds = model.model.predict(X_val)\n",
    "p = np.argmax(preds, axis=1)\n",
    "\n",
    "correct = 0\n",
    "\n",
    "for i in range(len(p)):\n",
    "    if p[i] == y_val[i]:\n",
    "        correct += 1\n",
    "print(correct, len(p)-correct, len(p))\n",
    "print(f'Overall Accuracy: {((correct/len(p))*100):.2f}%')"
   ]
  },
  {
   "cell_type": "code",
   "execution_count": null,
   "id": "d37d6911",
   "metadata": {},
   "outputs": [],
   "source": []
  },
  {
   "cell_type": "code",
   "execution_count": 19,
   "id": "26719b52",
   "metadata": {},
   "outputs": [
    {
     "data": {
      "image/png": "[encoded data removed]",
      "text/plain": [
       "<Figure size 432x288 with 2 Axes>"
      ]
     },
     "metadata": {
      "needs_background": "light"
     },
     "output_type": "display_data"
    }
   ],
   "source": [
    "cm = confusion_matrix(y_val,p, normalize='true')\n",
    "disp = ConfusionMatrixDisplay(confusion_matrix=cm,display_labels=le.classes_)\n",
    "d = disp.plot(xticks_rotation='vertical', values_format='.2f')"
   ]
  },
  {
   "cell_type": "code",
   "execution_count": 101,
   "id": "dfa34988",
   "metadata": {},
   "outputs": [],
   "source": [
    "# model.model.save('95-accuracy')\n",
    "model.model.save('95-accuracy.h5')\n"
   ]
  },
  {
   "cell_type": "code",
   "execution_count": 27,
   "id": "c9f051a6",
   "metadata": {},
   "outputs": [
    {
     "name": "stdout",
     "output_type": "stream",
     "text": [
      "39/39 [==============================] - 1s 16ms/step - loss: 0.0220 - accuracy: 0.9934\n",
      "1213 8 1221\n",
      "Overall Accuracy: 99.34%\n"
     ]
    },
    {
     "data": {
      "image/png": "[encoded data removed]",
      "text/plain": [
       "<Figure size 432x288 with 2 Axes>"
      ]
     },
     "metadata": {
      "needs_background": "light"
     },
     "output_type": "display_data"
    }
   ],
   "source": [
    "model.model.load_weights('95-accuracy.h5')\n",
    "model.model.evaluate(X_val, y_val)\n",
    "preds = model.model.predict(X_val)\n",
    "p = np.argmax(preds, axis=1)\n",
    "\n",
    "correct = 0\n",
    "\n",
    "for i in range(len(p)):\n",
    "    if p[i] == y_val[i]:\n",
    "        correct += 1\n",
    "print(correct, len(p)-correct, len(p))\n",
    "print(f'Overall Accuracy: {((correct/len(p))*100):.2f}%')\n",
    "\n",
    "cm = confusion_matrix(y_val,p, normalize='true')\n",
    "disp = ConfusionMatrixDisplay(confusion_matrix=cm,display_labels=le.classes_)\n",
    "d = disp.plot(xticks_rotation='vertical', values_format='.2f')"
   ]
  },
  {
   "cell_type": "code",
   "execution_count": 35,
   "id": "76a55ad5",
   "metadata": {},
   "outputs": [
    {
     "data": {
      "text/plain": [
       "0.9934479934479934"
      ]
     },
     "execution_count": 35,
     "metadata": {},
     "output_type": "execute_result"
    }
   ],
   "source": [
    "accuracy_score(y_val, p)"
   ]
  },
  {
   "cell_type": "code",
   "execution_count": 42,
   "id": "28493d00",
   "metadata": {},
   "outputs": [
    {
     "data": {
      "text/plain": [
       "0.9949854860632413"
      ]
     },
     "execution_count": 42,
     "metadata": {},
     "output_type": "execute_result"
    }
   ],
   "source": [
    "f1_score(y_val, p, average='macro')"
   ]
  },
  {
   "cell_type": "code",
   "execution_count": 46,
   "id": "b0f41593",
   "metadata": {},
   "outputs": [
    {
     "data": {
      "text/plain": [
       "0.9955805089621315"
      ]
     },
     "execution_count": 46,
     "metadata": {},
     "output_type": "execute_result"
    }
   ],
   "source": [
    "precision_score(y_val,p, average='macro')"
   ]
  },
  {
   "cell_type": "code",
   "execution_count": 51,
   "id": "00d07314",
   "metadata": {},
   "outputs": [
    {
     "data": {
      "text/plain": [
       "1.0"
      ]
     },
     "execution_count": 51,
     "metadata": {},
     "output_type": "execute_result"
    }
   ],
   "source": [
    "top_k_accuracy_score(y_val, preds, k=3)"
   ]
  },
  {
   "cell_type": "code",
   "execution_count": null,
   "id": "5095c64f",
   "metadata": {},
   "outputs": [],
   "source": []
  }
 ],
 "metadata": {
  "kernelspec": {
   "display_name": "Python 3 (ipykernel)",
   "language": "python",
   "name": "python3"
  },
  "language_info": {
   "codemirror_mode": {
    "name": "ipython",
    "version": 3
   },
   "file_extension": ".py",
   "mimetype": "text/x-python",
   "name": "python",
   "nbconvert_exporter": "python",
   "pygments_lexer": "ipython3",
   "version": "3.9.8"
  }
 },
 "nbformat": 4,
 "nbformat_minor": 5
}
