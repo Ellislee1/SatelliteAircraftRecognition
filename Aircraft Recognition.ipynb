{
 "cells": [
  {
   "cell_type": "markdown",
   "id": "b74c9550",
   "metadata": {},
   "source": [
    "## Notes\n",
    "\n",
    "### Image\n",
    "* Image size is 128 x 128"
   ]
  },
  {
   "cell_type": "code",
   "execution_count": 114,
   "id": "d1b73008",
   "metadata": {},
   "outputs": [
    {
     "name": "stdout",
     "output_type": "stream",
     "text": [
      "False False\n"
     ]
    }
   ],
   "source": [
    "import pandas as pd\n",
    "import numpy as np\n",
    "import tensorflow as tf\n",
    "import keras as k\n",
    "from PIL import Image\n",
    "from tqdm.notebook import tqdm\n",
    "import os\n",
    "from sklearn import preprocessing\n",
    "import wandb\n",
    "from wandb.keras import WandbCallback\n",
    "from sklearn.model_selection import train_test_split\n",
    "from sklearn.metrics import confusion_matrix, ConfusionMatrixDisplay\n",
    "import matplotlib.pyplot as plt\n",
    "%matplotlib inline\n",
    "\n",
    "gpu_available = tf.test.is_gpu_available()\n",
    "is_cuda_gpu_available = tf.test.is_gpu_available(cuda_only=True)\n",
    "\n",
    "print(gpu_available, is_cuda_gpu_available)"
   ]
  },
  {
   "cell_type": "code",
   "execution_count": 103,
   "id": "9fb76c7a",
   "metadata": {},
   "outputs": [
    {
     "data": {
      "text/html": [
       "Finishing last run (ID:2nebpn4p) before initializing another..."
      ],
      "text/plain": [
       "<IPython.core.display.HTML object>"
      ]
     },
     "metadata": {},
     "output_type": "display_data"
    },
    {
     "data": {
      "text/html": [
       "Successfully finished last run (ID:2nebpn4p). Initializing new run:<br/>"
      ],
      "text/plain": [
       "<IPython.core.display.HTML object>"
      ]
     },
     "metadata": {},
     "output_type": "display_data"
    },
    {
     "data": {
      "text/html": [
       "\n",
       "                    Syncing run <strong><a href=\"https://wandb.ai/thompson_e/aircraft-project/runs/hri2yw6y\" target=\"_blank\">crimson-lake-4</a></strong> to <a href=\"https://wandb.ai/thompson_e/aircraft-project\" target=\"_blank\">Weights & Biases</a> (<a href=\"https://docs.wandb.com/integrations/jupyter.html\" target=\"_blank\">docs</a>).<br/>\n",
       "\n",
       "                "
      ],
      "text/plain": [
       "<IPython.core.display.HTML object>"
      ]
     },
     "metadata": {},
     "output_type": "display_data"
    },
    {
     "data": {
      "text/html": [
       "<button onClick=\"this.nextSibling.style.display='block';this.style.display='none';\">Display W&B run</button><iframe src=\"https://wandb.ai/thompson_e/aircraft-project/runs/hri2yw6y?jupyter=true\" style=\"border:none;width:100%;height:420px;display:none;\"></iframe>"
      ],
      "text/plain": [
       "<wandb.sdk.wandb_run.Run at 0x7f914a57bc70>"
      ]
     },
     "execution_count": 103,
     "metadata": {},
     "output_type": "execute_result"
    }
   ],
   "source": [
    "wandb.init(project=\"aircraft-project\", entity=\"thompson_e\")"
   ]
  },
  {
   "cell_type": "code",
   "execution_count": 48,
   "id": "0c54a821",
   "metadata": {},
   "outputs": [],
   "source": [
    "batch_size = 128\n",
    "img_height = 128\n",
    "img_width = 128"
   ]
  },
  {
   "cell_type": "code",
   "execution_count": 49,
   "id": "5bb7a00f",
   "metadata": {},
   "outputs": [],
   "source": [
    "training_path = 'Train/'\n",
    "label_file = 'train.csv'\n",
    "image_path = 'Train/in_images'\n",
    "\n",
    "y_ambi = set(['other-airplane', 'A220', 'Boeing787', 'Boeing777', 'Boeing737', 'Boeing747', \n",
    "                   'C919', 'A321', 'A350', 'A330', 'ARJ21'])\n",
    "y_clean = labels_ambi = set(['A220', 'Boeing787', 'Boeing777', 'Boeing737', 'Boeing747', \n",
    "                   'C919', 'A321', 'A350', 'A330', 'ARJ21'])"
   ]
  },
  {
   "cell_type": "code",
   "execution_count": 50,
   "id": "8022507c",
   "metadata": {},
   "outputs": [],
   "source": [
    "# use this to limit the ambiguous choice of \"other airplane\"\n",
    "USE_CLEAN = True"
   ]
  },
  {
   "cell_type": "code",
   "execution_count": 51,
   "id": "22ccec5d",
   "metadata": {},
   "outputs": [
    {
     "data": {
      "text/plain": [
       "array([['5690_0.png', 'A220'],\n",
       "       ['5690_1.png', 'A220'],\n",
       "       ['5690_2.png', 'A220'],\n",
       "       ...,\n",
       "       ['4597_0.png', 'Boeing737'],\n",
       "       ['4597_1.png', 'A321'],\n",
       "       ['4597_3.png', 'Boeing737']], dtype=object)"
      ]
     },
     "execution_count": 51,
     "metadata": {},
     "output_type": "execute_result"
    }
   ],
   "source": [
    "labels = pd.read_csv(f'{training_path}{label_file}')\n",
    "if USE_CLEAN:\n",
    "    labels = labels[labels.label != 'other-airplane']\n",
    "labels = labels.to_numpy()\n",
    "\n",
    "labels"
   ]
  },
  {
   "cell_type": "code",
   "execution_count": 99,
   "id": "3da8ee6d",
   "metadata": {},
   "outputs": [],
   "source": [
    "class Model:\n",
    "    def __init__(self):\n",
    "        self.model = self.build_model()\n",
    "        print(self.model.summary())\n",
    "    \n",
    "    def build_model(self):\n",
    "        model = tf.keras.Sequential([\n",
    "            tf.keras.layers.InputLayer((128,128,3)),\n",
    "            tf.keras.layers.Conv2D(8,9),\n",
    "            tf.keras.layers.MaxPool2D(),\n",
    "            tf.keras.layers.Conv2D(4,3),\n",
    "            tf.keras.layers.MaxPool2D(),\n",
    "            tf.keras.layers.Flatten(),\n",
    "            tf.keras.layers.Dense(64,activation='relu'),\n",
    "            tf.keras.layers.Dense(128,activation='relu'),\n",
    "            tf.keras.layers.Dense(128,activation='relu'),\n",
    "            tf.keras.layers.Dense(10, activation='softmax'),\n",
    "        ])\n",
    "        opt = tf.keras.optimizers.SGD(learning_rate=0.003)\n",
    "        model.compile(optimizer=opt, \n",
    "              loss='sparse_categorical_crossentropy', metrics=['accuracy'])\n",
    "\n",
    "        return model"
   ]
  },
  {
   "cell_type": "code",
   "execution_count": 100,
   "id": "d2937af8",
   "metadata": {},
   "outputs": [
    {
     "name": "stdout",
     "output_type": "stream",
     "text": [
      "Model: \"sequential_17\"\n",
      "_________________________________________________________________\n",
      " Layer (type)                Output Shape              Param #   \n",
      "=================================================================\n",
      " conv2d_34 (Conv2D)          (None, 120, 120, 8)       1952      \n",
      "                                                                 \n",
      " max_pooling2d_24 (MaxPoolin  (None, 60, 60, 8)        0         \n",
      " g2D)                                                            \n",
      "                                                                 \n",
      " conv2d_35 (Conv2D)          (None, 58, 58, 4)         292       \n",
      "                                                                 \n",
      " max_pooling2d_25 (MaxPoolin  (None, 29, 29, 4)        0         \n",
      " g2D)                                                            \n",
      "                                                                 \n",
      " flatten_17 (Flatten)        (None, 3364)              0         \n",
      "                                                                 \n",
      " dense_53 (Dense)            (None, 64)                215360    \n",
      "                                                                 \n",
      " dense_54 (Dense)            (None, 128)               8320      \n",
      "                                                                 \n",
      " dense_55 (Dense)            (None, 128)               16512     \n",
      "                                                                 \n",
      " dense_56 (Dense)            (None, 10)                1290      \n",
      "                                                                 \n",
      "=================================================================\n",
      "Total params: 243,726\n",
      "Trainable params: 243,726\n",
      "Non-trainable params: 0\n",
      "_________________________________________________________________\n",
      "None\n"
     ]
    }
   ],
   "source": [
    "model = Model()"
   ]
  },
  {
   "cell_type": "code",
   "execution_count": 54,
   "id": "67c87baa",
   "metadata": {},
   "outputs": [
    {
     "data": {
      "application/vnd.jupyter.widget-view+json": {
       "model_id": "08b66242a65949f3925209799a0f2354",
       "version_major": 2,
       "version_minor": 0
      },
      "text/plain": [
       "  0%|          | 0/20349 [00:00<?, ?it/s]"
      ]
     },
     "metadata": {},
     "output_type": "display_data"
    }
   ],
   "source": [
    "X = []\n",
    "for file in tqdm(labels[:,0]):\n",
    "    image = Image.open(f'{image_path}/{file}')\n",
    "    image = np.asarray(image)[:,:,:3]/255\n",
    "    X.append(image)\n",
    "X = np.array(X)"
   ]
  },
  {
   "cell_type": "code",
   "execution_count": 55,
   "id": "879fbaa5",
   "metadata": {},
   "outputs": [
    {
     "name": "stdout",
     "output_type": "stream",
     "text": [
      "(20349, 128, 128, 3) (20349, 2)\n"
     ]
    }
   ],
   "source": [
    "print(X.shape, labels.shape)"
   ]
  },
  {
   "cell_type": "code",
   "execution_count": 115,
   "id": "08189517",
   "metadata": {},
   "outputs": [
    {
     "name": "stdout",
     "output_type": "stream",
     "text": [
      "['A220' 'A321' 'A330' 'A350' 'ARJ21' 'Boeing737' 'Boeing747' 'Boeing777'\n",
      " 'Boeing787' 'C919']\n"
     ]
    }
   ],
   "source": [
    "le = preprocessing.LabelEncoder()\n",
    "le.fit(labels[:,1])\n",
    "print(le.classes_)\n",
    "y = le.transform(labels[:,1])"
   ]
  },
  {
   "cell_type": "code",
   "execution_count": 146,
   "id": "43249b27",
   "metadata": {},
   "outputs": [
    {
     "name": "stdout",
     "output_type": "stream",
     "text": [
      "(16279, 128, 128, 3) (3256, 128, 128, 3) (814, 128, 128, 3)\n"
     ]
    }
   ],
   "source": [
    "X_train, X_test, y_train, y_test= train_test_split(X, y, test_size=0.2, shuffle = True)\n",
    "X_test, X_val, y_test, y_val = train_test_split(X_test, y_test, test_size=0.2, random_state=1)\n",
    "\n",
    "print(X_train.shape, X_test.shape, X_val.shape)"
   ]
  },
  {
   "cell_type": "code",
   "execution_count": 104,
   "id": "0e9fb0c5",
   "metadata": {},
   "outputs": [
    {
     "name": "stdout",
     "output_type": "stream",
     "text": [
      "Epoch 1/50\n",
      "159/159 [==============================] - 85s 534ms/step - loss: 1.9843 - accuracy: 0.2846 - val_loss: 1.9415 - val_accuracy: 0.2936\n",
      "Epoch 2/50\n",
      "159/159 [==============================] - 87s 546ms/step - loss: 1.9296 - accuracy: 0.2969 - val_loss: 1.9360 - val_accuracy: 0.2942\n",
      "Epoch 3/50\n",
      "159/159 [==============================] - 83s 519ms/step - loss: 1.9095 - accuracy: 0.2988 - val_loss: 1.8891 - val_accuracy: 0.2998\n",
      "Epoch 4/50\n",
      "159/159 [==============================] - 89s 561ms/step - loss: 1.8934 - accuracy: 0.3002 - val_loss: 1.8711 - val_accuracy: 0.2991\n",
      "Epoch 5/50\n",
      "159/159 [==============================] - 84s 527ms/step - loss: 1.8700 - accuracy: 0.3062 - val_loss: 1.8898 - val_accuracy: 0.3007\n",
      "Epoch 6/50\n",
      "159/159 [==============================] - 86s 539ms/step - loss: 1.8554 - accuracy: 0.3125 - val_loss: 1.8135 - val_accuracy: 0.3369\n",
      "Epoch 7/50\n",
      "159/159 [==============================] - 87s 549ms/step - loss: 1.8238 - accuracy: 0.3269 - val_loss: 1.8151 - val_accuracy: 0.3753\n",
      "Epoch 8/50\n",
      "159/159 [==============================] - 88s 553ms/step - loss: 1.7799 - accuracy: 0.3428 - val_loss: 1.8262 - val_accuracy: 0.3044\n",
      "Epoch 9/50\n",
      "159/159 [==============================] - 87s 550ms/step - loss: 1.7383 - accuracy: 0.3556 - val_loss: 1.6775 - val_accuracy: 0.3483\n",
      "Epoch 10/50\n",
      "159/159 [==============================] - 90s 567ms/step - loss: 1.6647 - accuracy: 0.3754 - val_loss: 1.6010 - val_accuracy: 0.3759\n",
      "Epoch 11/50\n",
      "159/159 [==============================] - 85s 531ms/step - loss: 1.5984 - accuracy: 0.3908 - val_loss: 1.6537 - val_accuracy: 0.3916\n",
      "Epoch 12/50\n",
      "159/159 [==============================] - 88s 551ms/step - loss: 1.5357 - accuracy: 0.4092 - val_loss: 1.5544 - val_accuracy: 0.3864\n",
      "Epoch 13/50\n",
      "159/159 [==============================] - 84s 530ms/step - loss: 1.4943 - accuracy: 0.4242 - val_loss: 1.4643 - val_accuracy: 0.3986\n",
      "Epoch 14/50\n",
      "159/159 [==============================] - 85s 534ms/step - loss: 1.4472 - accuracy: 0.4357 - val_loss: 1.4102 - val_accuracy: 0.4327\n",
      "Epoch 15/50\n",
      "159/159 [==============================] - 87s 545ms/step - loss: 1.4138 - accuracy: 0.4502 - val_loss: 1.4645 - val_accuracy: 0.4266\n",
      "Epoch 16/50\n",
      "159/159 [==============================] - 83s 519ms/step - loss: 1.3787 - accuracy: 0.4636 - val_loss: 1.3351 - val_accuracy: 0.4708\n",
      "Epoch 17/50\n",
      "159/159 [==============================] - 83s 522ms/step - loss: 1.3422 - accuracy: 0.4785 - val_loss: 1.3860 - val_accuracy: 0.4736\n",
      "Epoch 18/50\n",
      "159/159 [==============================] - 87s 546ms/step - loss: 1.3048 - accuracy: 0.4929 - val_loss: 1.2768 - val_accuracy: 0.5006\n",
      "Epoch 19/50\n",
      "159/159 [==============================] - 85s 534ms/step - loss: 1.2661 - accuracy: 0.5083 - val_loss: 1.2398 - val_accuracy: 0.5086\n",
      "Epoch 20/50\n",
      "159/159 [==============================] - 82s 517ms/step - loss: 1.2262 - accuracy: 0.5212 - val_loss: 1.1931 - val_accuracy: 0.5255\n",
      "Epoch 21/50\n",
      "159/159 [==============================] - 83s 521ms/step - loss: 1.1854 - accuracy: 0.5411 - val_loss: 1.1472 - val_accuracy: 0.5657\n",
      "Epoch 22/50\n",
      "159/159 [==============================] - 82s 515ms/step - loss: 1.1669 - accuracy: 0.5514 - val_loss: 1.1313 - val_accuracy: 0.5408\n",
      "Epoch 23/50\n",
      "159/159 [==============================] - 85s 534ms/step - loss: 1.1082 - accuracy: 0.5708 - val_loss: 1.0659 - val_accuracy: 0.5885\n",
      "Epoch 24/50\n",
      "159/159 [==============================] - 84s 530ms/step - loss: 1.0815 - accuracy: 0.5868 - val_loss: 1.0349 - val_accuracy: 0.6053\n",
      "Epoch 25/50\n",
      "159/159 [==============================] - 84s 529ms/step - loss: 1.0437 - accuracy: 0.6005 - val_loss: 1.0109 - val_accuracy: 0.5998\n",
      "Epoch 26/50\n",
      "159/159 [==============================] - 84s 529ms/step - loss: 0.9994 - accuracy: 0.6183 - val_loss: 0.9714 - val_accuracy: 0.6275\n",
      "Epoch 27/50\n",
      "159/159 [==============================] - 85s 535ms/step - loss: 0.9673 - accuracy: 0.6359 - val_loss: 0.9431 - val_accuracy: 0.6459\n",
      "Epoch 28/50\n",
      "159/159 [==============================] - 85s 535ms/step - loss: 0.9335 - accuracy: 0.6463 - val_loss: 0.9091 - val_accuracy: 0.6588\n",
      "Epoch 29/50\n",
      "159/159 [==============================] - 84s 527ms/step - loss: 0.8946 - accuracy: 0.6632 - val_loss: 0.8895 - val_accuracy: 0.6566\n",
      "Epoch 30/50\n",
      "159/159 [==============================] - 83s 523ms/step - loss: 0.8603 - accuracy: 0.6807 - val_loss: 0.8228 - val_accuracy: 0.6996\n",
      "Epoch 31/50\n",
      "159/159 [==============================] - 86s 540ms/step - loss: 0.8256 - accuracy: 0.6967 - val_loss: 0.8430 - val_accuracy: 0.6892\n",
      "Epoch 32/50\n",
      "159/159 [==============================] - 83s 524ms/step - loss: 0.7952 - accuracy: 0.7088 - val_loss: 0.7841 - val_accuracy: 0.7101\n",
      "Epoch 33/50\n",
      "159/159 [==============================] - 84s 525ms/step - loss: 0.7627 - accuracy: 0.7230 - val_loss: 0.7575 - val_accuracy: 0.7227\n",
      "Epoch 34/50\n",
      "159/159 [==============================] - 83s 519ms/step - loss: 0.7316 - accuracy: 0.7372 - val_loss: 0.8042 - val_accuracy: 0.6935\n",
      "Epoch 35/50\n",
      "159/159 [==============================] - 82s 518ms/step - loss: 0.6942 - accuracy: 0.7532 - val_loss: 0.6631 - val_accuracy: 0.7672\n",
      "Epoch 36/50\n",
      "159/159 [==============================] - 85s 538ms/step - loss: 0.6629 - accuracy: 0.7678 - val_loss: 0.7132 - val_accuracy: 0.7334\n",
      "Epoch 37/50\n",
      "159/159 [==============================] - 88s 552ms/step - loss: 0.6333 - accuracy: 0.7780 - val_loss: 0.6123 - val_accuracy: 0.7924\n",
      "Epoch 38/50\n",
      "159/159 [==============================] - 89s 562ms/step - loss: 0.6038 - accuracy: 0.7917 - val_loss: 0.6174 - val_accuracy: 0.7792\n",
      "Epoch 39/50\n",
      "159/159 [==============================] - 83s 521ms/step - loss: 0.5758 - accuracy: 0.8012 - val_loss: 0.5654 - val_accuracy: 0.8056\n",
      "Epoch 40/50\n",
      "159/159 [==============================] - 83s 521ms/step - loss: 0.5483 - accuracy: 0.8117 - val_loss: 0.5199 - val_accuracy: 0.8299\n",
      "Epoch 41/50\n",
      "159/159 [==============================] - 83s 524ms/step - loss: 0.5103 - accuracy: 0.8312 - val_loss: 0.5152 - val_accuracy: 0.8323\n",
      "Epoch 42/50\n",
      "159/159 [==============================] - 89s 559ms/step - loss: 0.9267 - accuracy: 0.8066 - val_loss: 2.0479 - val_accuracy: 0.2752\n",
      "Epoch 43/50\n",
      "159/159 [==============================] - 84s 529ms/step - loss: 1.1782 - accuracy: 0.5609 - val_loss: 0.5770 - val_accuracy: 0.7936\n",
      "Epoch 44/50\n",
      "159/159 [==============================] - 84s 529ms/step - loss: 0.5485 - accuracy: 0.8114 - val_loss: 0.5036 - val_accuracy: 0.8305\n",
      "Epoch 45/50\n",
      "159/159 [==============================] - 86s 541ms/step - loss: 0.4723 - accuracy: 0.8444 - val_loss: 0.4342 - val_accuracy: 0.8655\n",
      "Epoch 46/50\n",
      "159/159 [==============================] - 86s 538ms/step - loss: 0.4304 - accuracy: 0.8612 - val_loss: 0.4100 - val_accuracy: 0.8775\n",
      "Epoch 47/50\n",
      "159/159 [==============================] - 84s 529ms/step - loss: 0.3929 - accuracy: 0.8784 - val_loss: 0.3754 - val_accuracy: 0.8894\n",
      "Epoch 48/50\n",
      "159/159 [==============================] - 86s 539ms/step - loss: 0.3663 - accuracy: 0.8870 - val_loss: 0.3608 - val_accuracy: 0.8904\n",
      "Epoch 49/50\n",
      "159/159 [==============================] - 87s 543ms/step - loss: 0.3390 - accuracy: 0.8992 - val_loss: 0.3372 - val_accuracy: 0.9036\n",
      "Epoch 50/50\n",
      "159/159 [==============================] - 85s 536ms/step - loss: 0.3192 - accuracy: 0.9052 - val_loss: 0.3223 - val_accuracy: 0.9079\n"
     ]
    },
    {
     "data": {
      "text/plain": [
       "<keras.callbacks.History at 0x7f8f10716490>"
      ]
     },
     "execution_count": 104,
     "metadata": {},
     "output_type": "execute_result"
    }
   ],
   "source": [
    "model.model.fit(X, y, epochs=50,use_multiprocessing=True,verbose=1, \n",
    "                batch_size=128, validation_data=(X_test,y_test) ,callbacks=[WandbCallback()])"
   ]
  },
  {
   "cell_type": "code",
   "execution_count": 107,
   "id": "dc2a01de",
   "metadata": {},
   "outputs": [
    {
     "name": "stdout",
     "output_type": "stream",
     "text": [
      "26/26 [==============================] - 1s 33ms/step - loss: 0.3076 - accuracy: 0.9103\n"
     ]
    },
    {
     "data": {
      "text/plain": [
       "[0.3076232373714447, 0.9103193879127502]"
      ]
     },
     "execution_count": 107,
     "metadata": {},
     "output_type": "execute_result"
    }
   ],
   "source": [
    "model.model.evaluate(X_val, y_val)  "
   ]
  },
  {
   "cell_type": "code",
   "execution_count": 152,
   "id": "d36bd8c2",
   "metadata": {},
   "outputs": [
    {
     "name": "stdout",
     "output_type": "stream",
     "text": [
      "747 67 814\n",
      "Overall Accuracy: 91.77%\n"
     ]
    }
   ],
   "source": [
    "preds = model.model.predict(X_val)\n",
    "p = np.argmax(preds, axis=1)\n",
    "\n",
    "correct = 0\n",
    "\n",
    "for i in range(len(p)):\n",
    "    if p[i] == y_val[i]:\n",
    "        correct += 1\n",
    "print(correct, len(p)-correct, len(p))\n",
    "print(f'Overall Accuracy: {((correct/len(p))*100):.2f}%')"
   ]
  },
  {
   "cell_type": "code",
   "execution_count": null,
   "id": "d37d6911",
   "metadata": {},
   "outputs": [],
   "source": []
  },
  {
   "cell_type": "code",
   "execution_count": 153,
   "id": "26719b52",
   "metadata": {},
   "outputs": [
    {
     "data": {
      "image/png": "[encoded data removed]",
      "text/plain": [
       "<Figure size 432x288 with 2 Axes>"
      ]
     },
     "metadata": {
      "needs_background": "light"
     },
     "output_type": "display_data"
    }
   ],
   "source": [
    "cm = confusion_matrix(y_val,p, normalize='true')\n",
    "disp = ConfusionMatrixDisplay(confusion_matrix=cm,display_labels=le.classes_)\n",
    "d = disp.plot(xticks_rotation='vertical', values_format='.2f')"
   ]
  },
  {
   "cell_type": "code",
   "execution_count": 145,
   "id": "dfa34988",
   "metadata": {},
   "outputs": [
    {
     "name": "stdout",
     "output_type": "stream",
     "text": [
      "INFO:tensorflow:Assets written to: 90p-accuracy/assets\n"
     ]
    }
   ],
   "source": [
    "model.model.save('90p-accuracy')\n",
    "model.model.save('90p-accuracy.h5')\n"
   ]
  },
  {
   "cell_type": "code",
   "execution_count": null,
   "id": "c9f051a6",
   "metadata": {},
   "outputs": [],
   "source": []
  }
 ],
 "metadata": {
  "kernelspec": {
   "display_name": "Python 3 (ipykernel)",
   "language": "python",
   "name": "python3"
  },
  "language_info": {
   "codemirror_mode": {
    "name": "ipython",
    "version": 3
   },
   "file_extension": ".py",
   "mimetype": "text/x-python",
   "name": "python",
   "nbconvert_exporter": "python",
   "pygments_lexer": "ipython3",
   "version": "3.9.8"
  }
 },
 "nbformat": 4,
 "nbformat_minor": 5
}
