{
 "cells": [
  {
   "cell_type": "code",
   "execution_count": 1,
   "id": "ad9ff7e8",
   "metadata": {},
   "outputs": [],
   "source": [
    "import xml.etree.ElementTree as ET\n",
    "import os\n",
    "from tqdm.notebook import tqdm\n",
    "from PIL import Image\n",
    "import sys\n",
    "import numpy as np\n",
    "import csv\n",
    "%matplotlib inline"
   ]
  },
  {
   "cell_type": "code",
   "execution_count": 2,
   "id": "cecf2cd5",
   "metadata": {},
   "outputs": [],
   "source": [
    "trainPath = 'Train'\n",
    "trainLabelPath = 'Train/labelXML'\n",
    "trainImagePath = 'Train/images'"
   ]
  },
  {
   "cell_type": "code",
   "execution_count": 3,
   "id": "8454082b",
   "metadata": {},
   "outputs": [],
   "source": [
    "class Point:\n",
    "    def __init__(self, x,y):\n",
    "        self.x = x\n",
    "        self.y = y\n",
    "\n",
    "class Points:\n",
    "    def __init__(self):\n",
    "        self.points = []\n",
    "        self.min_x = sys.maxsize\n",
    "        self.min_y = sys.maxsize\n",
    "        self.max_x = 0\n",
    "        self.max_y = 0\n",
    "    def __len__(self):\n",
    "        return len(self.points)\n",
    "    def add_point(self, x,y):\n",
    "        self.min_x = min(x,self.min_x)\n",
    "        self.min_y = min(y,self.min_y)\n",
    "        self.max_x = max(x,self.max_x)\n",
    "        self.max_y = max(y,self.max_y)\n",
    "        self.points.append(Point(x,y))\n",
    "    \n",
    "\n",
    "class Item:\n",
    "    def __init__(self, filename, label, points):\n",
    "        self.filename = filename\n",
    "        self.label = label\n",
    "        self.points = points"
   ]
  },
  {
   "cell_type": "markdown",
   "id": "c0691bc8",
   "metadata": {},
   "source": [
    "## List of aircraft in set\n",
    "* Boeing787\n",
    "* Boeing747\n",
    "* C919\n",
    "* A321\n",
    "* A220\n",
    "* Boeing737\n",
    "* A350\n",
    "* A330\n",
    "* Boeing777\n",
    "* ARJ21\n",
    "* other-airplane"
   ]
  },
  {
   "cell_type": "code",
   "execution_count": 4,
   "id": "50a7a825",
   "metadata": {},
   "outputs": [
    {
     "data": {
      "application/vnd.jupyter.widget-view+json": {
       "model_id": "16f3a0b7e2c74a9b8f7ff5297a6a51b4",
       "version_major": 2,
       "version_minor": 0
      },
      "text/plain": [
       "  0%|          | 0/5592 [00:00<?, ?it/s]"
      ]
     },
     "metadata": {},
     "output_type": "display_data"
    },
    {
     "name": "stdout",
     "output_type": "stream",
     "text": [
      "5591\n",
      "30324\n",
      "0\n",
      "{'Boeing777', 'ARJ21', 'Boeing747', 'A321', 'Boeing787', 'C919', 'other-airplane', 'Boeing737', 'A350', 'A220', 'A330'}\n",
      "{'Boeing777': 1532, 'ARJ21': 166, 'Boeing747': 1673, 'Boeing787': 1669, 'A321': 2505, 'C919': 135, 'other-airplane': 9975, 'Boeing737': 3949, 'A350': 1064, 'A220': 6057, 'A330': 1599}\n"
     ]
    }
   ],
   "source": [
    "directory = os.fsencode(trainLabelPath)\n",
    "\n",
    "known_aircraft = {\"Boeing787\", \"Boeing747\", \"C919\", \"A321\", \"A220\", \"Boeing737\", \"A350\", \"A330\", \n",
    "                  \"Boeing777\", \"ARJ21\", \"other-airplane\"}\n",
    "countsDict = {}\n",
    "to_delete = set([])\n",
    "total = 0\n",
    "for item in known_aircraft:\n",
    "    countsDict[item] = 0\n",
    "\n",
    "labels = {}\n",
    "labelSelection = set()\n",
    "\n",
    "for file in tqdm(os.listdir(directory)):\n",
    "    filename = os.fsdecode(file)\n",
    "    if filename.endswith(\".xml\"):\n",
    "        tree = ET.parse(f'{trainLabelPath}/{filename}')\n",
    "        root = tree.getroot()\n",
    "        filename = root[0][0].text\n",
    "        \n",
    "        objects = {}\n",
    "        i = 0\n",
    "        for obj in root[3]:\n",
    "            label = obj[3][0].text\n",
    "            if not label in known_aircraft:\n",
    "                continue\n",
    "            total += 1\n",
    "            countsDict[label] += 1\n",
    "            labelSelection.add(label)\n",
    "            points = Points()\n",
    "            for point in obj[4]:\n",
    "                split=point.text.split(',')\n",
    "                points.add_point(float(split[0]),float(split[1]))\n",
    "            new_itm = Item(filename, label, points)\n",
    "            objects[i] = new_itm\n",
    "            i += 1\n",
    "    else:\n",
    "        continue\n",
    "    if len(objects) > 0:\n",
    "        labels[filename.replace('.tif',\"\")] = objects\n",
    "    else:\n",
    "        to_delete.add(filename.replace('.tif',\"\"))\n",
    "print(len(labels))\n",
    "print(total)\n",
    "print(len(to_delete))\n",
    "print(labelSelection)\n",
    "print(countsDict)"
   ]
  },
  {
   "cell_type": "code",
   "execution_count": 5,
   "id": "d3319254",
   "metadata": {
    "scrolled": true
   },
   "outputs": [
    {
     "data": {
      "application/vnd.jupyter.widget-view+json": {
       "model_id": "565726e219ca49f396d38942af650c40",
       "version_major": 2,
       "version_minor": 0
      },
      "text/plain": [
       "0it [00:00, ?it/s]"
      ]
     },
     "metadata": {},
     "output_type": "display_data"
    }
   ],
   "source": [
    "for file in tqdm(to_delete):\n",
    "    pathImg = f'{trainImagePath}/{file}.tif'\n",
    "    pathXml = f'{trainLabelPath}/{file}.xml'\n",
    "    if os.path.exists(pathImg):\n",
    "        print(f'Removing {pathImg}')\n",
    "        os.remove(pathImg)\n",
    "    if os.path.exists(pathXml):\n",
    "        print(f'Removing {pathXml}')\n",
    "        os.remove(pathXml)"
   ]
  },
  {
   "cell_type": "code",
   "execution_count": 11,
   "id": "72513f6c",
   "metadata": {
    "scrolled": true
   },
   "outputs": [],
   "source": [
    "new_path = 'Train/in_images'\n",
    "grey_path = 'Train/in_grey_images'\n",
    "size = 128,128\n",
    "keys = list(labels.keys())\n",
    "test = keys[0]"
   ]
  },
  {
   "cell_type": "code",
   "execution_count": 21,
   "id": "1668ae58",
   "metadata": {
    "scrolled": true
   },
   "outputs": [
    {
     "data": {
      "application/vnd.jupyter.widget-view+json": {
       "model_id": "1fb7b600200a4de8a3d941bf65cbc11c",
       "version_major": 2,
       "version_minor": 0
      },
      "text/plain": [
       "  0%|          | 0/5591 [00:00<?, ?it/s]"
      ]
     },
     "metadata": {},
     "output_type": "display_data"
    }
   ],
   "source": [
    "data= []\n",
    "header = ['file', 'label']\n",
    "rgb_weights = [0.2989, 0.5870, 0.1140]\n",
    "\n",
    "for key in tqdm(keys):\n",
    "    filename=f'{key}.tif'\n",
    "    path = f'{trainImagePath}/{filename}'\n",
    "    im = Image.open(path)\n",
    "    \n",
    "    for obj in labels[key]:\n",
    "        points = labels[key][obj].points\n",
    "        im1 = im.crop((points.min_x, points.min_y, points.max_x, points.max_y)).resize(size)\n",
    "        newfilename = f'{key}_{obj}.png'\n",
    "        data.append([newfilename, label])\n",
    "        im1.save(f'{new_path}/{newfilename}')\n",
    "        im1=np.array(im1)\n",
    "        im1 = np.dot(im1[...,:3], rgb_weights)\n",
    "        im1 = Image.fromarray(im1).convert('RGB')\n",
    "        im1.save(f'{grey_path}/{newfilename}')\n",
    "\n",
    "with open('Train/train.csv', 'w', encoding='UTF8') as f:\n",
    "    writer = csv.writer(f)\n",
    "\n",
    "    # write the header\n",
    "    writer.writerow(header)\n",
    "\n",
    "    for row in data:\n",
    "        writer.writerow(row)"
   ]
  },
  {
   "cell_type": "code",
   "execution_count": 25,
   "id": "98182761",
   "metadata": {},
   "outputs": [
    {
     "data": {
      "application/vnd.jupyter.widget-view+json": {
       "model_id": "321de3ccab7b45c195e31e1a67a8370c",
       "version_major": 2,
       "version_minor": 0
      },
      "text/plain": [
       "  0%|          | 0/5591 [00:00<?, ?it/s]"
      ]
     },
     "metadata": {},
     "output_type": "display_data"
    }
   ],
   "source": [
    "header = ['file', 'label']\n",
    "data= []\n",
    "for key in tqdm(keys):\n",
    "    for obj in labels[key]:\n",
    "        filename = f'{key}_{obj}.png'\n",
    "        label = labels[key][obj].label\n",
    "        data.append([filename, label])\n",
    "\n",
    "with open('Train/train.csv', 'w', encoding='UTF8') as f:\n",
    "    writer = csv.writer(f)\n",
    "\n",
    "    # write the header\n",
    "    writer.writerow(header)\n",
    "\n",
    "    for row in data:\n",
    "        writer.writerow(row)"
   ]
  },
  {
   "cell_type": "code",
   "execution_count": null,
   "id": "9cdcdb07",
   "metadata": {},
   "outputs": [],
   "source": []
  }
 ],
 "metadata": {
  "kernelspec": {
   "display_name": "Python 3 (ipykernel)",
   "language": "python",
   "name": "python3"
  },
  "language_info": {
   "codemirror_mode": {
    "name": "ipython",
    "version": 3
   },
   "file_extension": ".py",
   "mimetype": "text/x-python",
   "name": "python",
   "nbconvert_exporter": "python",
   "pygments_lexer": "ipython3",
   "version": "3.9.8"
  }
 },
 "nbformat": 4,
 "nbformat_minor": 5
}
